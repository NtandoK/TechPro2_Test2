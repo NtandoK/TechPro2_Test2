{
 "cells": [
  {
   "cell_type": "code",
   "execution_count": 1,
   "id": "89a67374-b1a8-4e4a-a28a-baebaea70258",
   "metadata": {},
   "outputs": [],
   "source": [
    "import pandas as pd"
   ]
  },
  {
   "cell_type": "code",
   "execution_count": 4,
   "id": "1c36b9d0-f275-455d-ad48-40e64c62da2b",
   "metadata": {},
   "outputs": [],
   "source": [
    "data=pd.read_csv('settle2.csv')\n"
   ]
  },
  {
   "cell_type": "code",
   "execution_count": 5,
   "id": "bd2df02f-15dc-41eb-a69d-148804a15220",
   "metadata": {},
   "outputs": [
    {
     "data": {
      "text/plain": [
       "Index(['is_cluster', 'pocket_name', 'pocket_alias', 'ward_id',\n",
       "       'ward_councillor', 'avg_hhsize', 'area_ha', 'density_dwellings',\n",
       "       'structure_count', 'age_of_is', 'upgrade_category', 'temp_sanitation',\n",
       "       'toilets_full_flush', 'toilets_chemical', 'toilets_portable',\n",
       "       'toilets_container', 'toilets_other', 'toilets_total',\n",
       "       'ratio_toilets_dwellings', 'pocket_code', 'centroidx', 'centroidy'],\n",
       "      dtype='object')"
      ]
     },
     "execution_count": 5,
     "metadata": {},
     "output_type": "execute_result"
    }
   ],
   "source": [
    "data.columns"
   ]
  },
  {
   "cell_type": "markdown",
   "id": "6c89efe1-d521-4847-b3e5-6a9ffd29d6d3",
   "metadata": {},
   "source": [
    "https://data.openup.org.za/dataset?tags=settlements&q=informal+settlement\n",
    "This data is very suitable for this assignment as it contains many details about informal settlements around South Africa and and their data.\n",
    "\n",
    "We have a column called 'area_ha'. This column contains sizes of these informal areas. We also have a column called toilets_portable which contains data about portable toilets in that informal settlement.\n",
    "\n",
    "This data set is also in csv format"
   ]
  }
 ],
 "metadata": {
  "kernelspec": {
   "display_name": "Python 3 (ipykernel)",
   "language": "python",
   "name": "python3"
  },
  "language_info": {
   "codemirror_mode": {
    "name": "ipython",
    "version": 3
   },
   "file_extension": ".py",
   "mimetype": "text/x-python",
   "name": "python",
   "nbconvert_exporter": "python",
   "pygments_lexer": "ipython3",
   "version": "3.11.7"
  }
 },
 "nbformat": 4,
 "nbformat_minor": 5
}

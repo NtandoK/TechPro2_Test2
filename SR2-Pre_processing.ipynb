{
 "cells": [
  {
   "cell_type": "code",
   "execution_count": 24,
   "id": "816ce166-5931-44ab-8ed0-4b04fc02c76b",
   "metadata": {},
   "outputs": [],
   "source": [
    "import pandas as pd\n",
    "from sklearn.preprocessing import MinMaxScaler"
   ]
  },
  {
   "cell_type": "code",
   "execution_count": 22,
   "id": "336686de-ab09-4e88-98ee-7a3fa6587232",
   "metadata": {},
   "outputs": [],
   "source": [
    "data=pd.read_csv('settle2.csv')"
   ]
  },
  {
   "cell_type": "code",
   "execution_count": 23,
   "id": "b37c2e0a-1dcb-444c-bac2-a0e9baf520c5",
   "metadata": {},
   "outputs": [
    {
     "data": {
      "text/plain": [
       "9548"
      ]
     },
     "execution_count": 23,
     "metadata": {},
     "output_type": "execute_result"
    }
   ],
   "source": [
    "data.size"
   ]
  },
  {
   "cell_type": "code",
   "execution_count": 4,
   "id": "a4d4a2c3-932d-4a7a-9263-bc632687d2ff",
   "metadata": {},
   "outputs": [
    {
     "data": {
      "text/plain": [
       "is_cluster                  object\n",
       "pocket_name                 object\n",
       "pocket_alias                object\n",
       "ward_id                      int64\n",
       "ward_councillor             object\n",
       "avg_hhsize                 float64\n",
       "area_ha                    float64\n",
       "density_dwellings          float64\n",
       "structure_count              int64\n",
       "age_of_is                   object\n",
       "upgrade_category            object\n",
       "temp_sanitation            float64\n",
       "toilets_full_flush         float64\n",
       "toilets_chemical           float64\n",
       "toilets_portable           float64\n",
       "toilets_container          float64\n",
       "toilets_other              float64\n",
       "toilets_total              float64\n",
       "ratio_toilets_dwellings     object\n",
       "pocket_code                 object\n",
       "centroidx                  float64\n",
       "centroidy                  float64\n",
       "dtype: object"
      ]
     },
     "execution_count": 4,
     "metadata": {},
     "output_type": "execute_result"
    }
   ],
   "source": [
    "data.dtypes"
   ]
  },
  {
   "cell_type": "code",
   "execution_count": 5,
   "id": "6c68f935-2cae-4eed-bf95-2fca13d77547",
   "metadata": {},
   "outputs": [
    {
     "data": {
      "text/plain": [
       "Index(['is_cluster', 'pocket_name', 'pocket_alias', 'ward_id',\n",
       "       'ward_councillor', 'avg_hhsize', 'area_ha', 'density_dwellings',\n",
       "       'structure_count', 'age_of_is', 'upgrade_category', 'temp_sanitation',\n",
       "       'toilets_full_flush', 'toilets_chemical', 'toilets_portable',\n",
       "       'toilets_container', 'toilets_other', 'toilets_total',\n",
       "       'ratio_toilets_dwellings', 'pocket_code', 'centroidx', 'centroidy'],\n",
       "      dtype='object')"
      ]
     },
     "execution_count": 5,
     "metadata": {},
     "output_type": "execute_result"
    }
   ],
   "source": [
    "data.columns"
   ]
  },
  {
   "cell_type": "code",
   "execution_count": 6,
   "id": "be8bc70a-4c09-4c5c-b7d1-3c83f5236239",
   "metadata": {},
   "outputs": [
    {
     "data": {
      "text/plain": [
       "(434, 22)"
      ]
     },
     "execution_count": 6,
     "metadata": {},
     "output_type": "execute_result"
    }
   ],
   "source": [
    "data.shape"
   ]
  },
  {
   "cell_type": "code",
   "execution_count": 8,
   "id": "f6c0f57e-a886-4862-a553-b4105cb8da19",
   "metadata": {},
   "outputs": [
    {
     "data": {
      "text/html": [
       "<div>\n",
       "<style scoped>\n",
       "    .dataframe tbody tr th:only-of-type {\n",
       "        vertical-align: middle;\n",
       "    }\n",
       "\n",
       "    .dataframe tbody tr th {\n",
       "        vertical-align: top;\n",
       "    }\n",
       "\n",
       "    .dataframe thead th {\n",
       "        text-align: right;\n",
       "    }\n",
       "</style>\n",
       "<table border=\"1\" class=\"dataframe\">\n",
       "  <thead>\n",
       "    <tr style=\"text-align: right;\">\n",
       "      <th></th>\n",
       "      <th>is_cluster</th>\n",
       "      <th>pocket_name</th>\n",
       "      <th>pocket_alias</th>\n",
       "      <th>ward_id</th>\n",
       "      <th>ward_councillor</th>\n",
       "      <th>avg_hhsize</th>\n",
       "      <th>area_ha</th>\n",
       "      <th>density_dwellings</th>\n",
       "      <th>structure_count</th>\n",
       "      <th>age_of_is</th>\n",
       "      <th>...</th>\n",
       "      <th>toilets_full_flush</th>\n",
       "      <th>toilets_chemical</th>\n",
       "      <th>toilets_portable</th>\n",
       "      <th>toilets_container</th>\n",
       "      <th>toilets_other</th>\n",
       "      <th>toilets_total</th>\n",
       "      <th>ratio_toilets_dwellings</th>\n",
       "      <th>pocket_code</th>\n",
       "      <th>centroidx</th>\n",
       "      <th>centroidy</th>\n",
       "    </tr>\n",
       "  </thead>\n",
       "  <tbody>\n",
       "    <tr>\n",
       "      <th>0</th>\n",
       "      <td>4 in 1</td>\n",
       "      <td>4 in 1</td>\n",
       "      <td>Wallacedene 14 / J Section</td>\n",
       "      <td>19100006</td>\n",
       "      <td>Simpiwe Nonkeyizana</td>\n",
       "      <td>3.72</td>\n",
       "      <td>2.952</td>\n",
       "      <td>50.813008</td>\n",
       "      <td>150</td>\n",
       "      <td>15 - 20 years</td>\n",
       "      <td>...</td>\n",
       "      <td>32.0</td>\n",
       "      <td>0.0</td>\n",
       "      <td>0.0</td>\n",
       "      <td>0.0</td>\n",
       "      <td>0.0</td>\n",
       "      <td>32.0</td>\n",
       "      <td>1:5</td>\n",
       "      <td>NORFOU001</td>\n",
       "      <td>18.732603</td>\n",
       "      <td>-33.863384</td>\n",
       "    </tr>\n",
       "    <tr>\n",
       "      <th>1</th>\n",
       "      <td>Acacia Road</td>\n",
       "      <td>Acacia Road</td>\n",
       "      <td>Acacia Park - Parktown</td>\n",
       "      <td>19100066</td>\n",
       "      <td>Melanie Arendse</td>\n",
       "      <td>4.51</td>\n",
       "      <td>0.070</td>\n",
       "      <td>114.285714</td>\n",
       "      <td>8</td>\n",
       "      <td>10 - 15 years</td>\n",
       "      <td>...</td>\n",
       "      <td>3.0</td>\n",
       "      <td>2.0</td>\n",
       "      <td>0.0</td>\n",
       "      <td>0.0</td>\n",
       "      <td>0.0</td>\n",
       "      <td>5.0</td>\n",
       "      <td>1:2</td>\n",
       "      <td>HILACA001</td>\n",
       "      <td>18.501024</td>\n",
       "      <td>-34.032822</td>\n",
       "    </tr>\n",
       "    <tr>\n",
       "      <th>2</th>\n",
       "      <td>Amy Biehl</td>\n",
       "      <td>Amy Biehl</td>\n",
       "      <td>School Site</td>\n",
       "      <td>19100034</td>\n",
       "      <td>Fikiswa Nkunzana</td>\n",
       "      <td>2.89</td>\n",
       "      <td>1.711</td>\n",
       "      <td>301.578025</td>\n",
       "      <td>516</td>\n",
       "      <td>15 - 20 years</td>\n",
       "      <td>...</td>\n",
       "      <td>93.0</td>\n",
       "      <td>0.0</td>\n",
       "      <td>0.0</td>\n",
       "      <td>0.0</td>\n",
       "      <td>0.0</td>\n",
       "      <td>93.0</td>\n",
       "      <td>1:6</td>\n",
       "      <td>MITAMY001</td>\n",
       "      <td>18.587852</td>\n",
       "      <td>-34.002772</td>\n",
       "    </tr>\n",
       "    <tr>\n",
       "      <th>3</th>\n",
       "      <td>Appel Boord</td>\n",
       "      <td>Appel Boord</td>\n",
       "      <td>NaN</td>\n",
       "      <td>19100022</td>\n",
       "      <td>Johanna Martlow</td>\n",
       "      <td>4.14</td>\n",
       "      <td>0.088</td>\n",
       "      <td>159.090909</td>\n",
       "      <td>14</td>\n",
       "      <td>5 - 10 years</td>\n",
       "      <td>...</td>\n",
       "      <td>10.0</td>\n",
       "      <td>0.0</td>\n",
       "      <td>0.0</td>\n",
       "      <td>0.0</td>\n",
       "      <td>0.0</td>\n",
       "      <td>10.0</td>\n",
       "      <td>1:1</td>\n",
       "      <td>TYGAPP001</td>\n",
       "      <td>18.609142</td>\n",
       "      <td>-33.926268</td>\n",
       "    </tr>\n",
       "    <tr>\n",
       "      <th>4</th>\n",
       "      <td>Area K</td>\n",
       "      <td>Area K</td>\n",
       "      <td>Never Never</td>\n",
       "      <td>19100088</td>\n",
       "      <td>Patrick (Pat) Pietersen</td>\n",
       "      <td>4.17</td>\n",
       "      <td>2.661</td>\n",
       "      <td>249.154453</td>\n",
       "      <td>663</td>\n",
       "      <td>10 - 15 years</td>\n",
       "      <td>...</td>\n",
       "      <td>121.0</td>\n",
       "      <td>0.0</td>\n",
       "      <td>0.0</td>\n",
       "      <td>0.0</td>\n",
       "      <td>0.0</td>\n",
       "      <td>121.0</td>\n",
       "      <td>1:5</td>\n",
       "      <td>MITARE001</td>\n",
       "      <td>18.598543</td>\n",
       "      <td>-34.008208</td>\n",
       "    </tr>\n",
       "  </tbody>\n",
       "</table>\n",
       "<p>5 rows × 22 columns</p>\n",
       "</div>"
      ],
      "text/plain": [
       "    is_cluster  pocket_name                pocket_alias   ward_id  \\\n",
       "0       4 in 1       4 in 1  Wallacedene 14 / J Section  19100006   \n",
       "1  Acacia Road  Acacia Road      Acacia Park - Parktown  19100066   \n",
       "2    Amy Biehl    Amy Biehl                 School Site  19100034   \n",
       "3  Appel Boord  Appel Boord                         NaN  19100022   \n",
       "4       Area K       Area K                 Never Never  19100088   \n",
       "\n",
       "           ward_councillor  avg_hhsize  area_ha  density_dwellings  \\\n",
       "0      Simpiwe Nonkeyizana        3.72    2.952          50.813008   \n",
       "1          Melanie Arendse        4.51    0.070         114.285714   \n",
       "2         Fikiswa Nkunzana        2.89    1.711         301.578025   \n",
       "3          Johanna Martlow        4.14    0.088         159.090909   \n",
       "4  Patrick (Pat) Pietersen        4.17    2.661         249.154453   \n",
       "\n",
       "   structure_count      age_of_is  ... toilets_full_flush  toilets_chemical  \\\n",
       "0              150  15 - 20 years  ...               32.0               0.0   \n",
       "1                8  10 - 15 years  ...                3.0               2.0   \n",
       "2              516  15 - 20 years  ...               93.0               0.0   \n",
       "3               14   5 - 10 years  ...               10.0               0.0   \n",
       "4              663  10 - 15 years  ...              121.0               0.0   \n",
       "\n",
       "   toilets_portable  toilets_container  toilets_other  toilets_total  \\\n",
       "0               0.0                0.0            0.0           32.0   \n",
       "1               0.0                0.0            0.0            5.0   \n",
       "2               0.0                0.0            0.0           93.0   \n",
       "3               0.0                0.0            0.0           10.0   \n",
       "4               0.0                0.0            0.0          121.0   \n",
       "\n",
       "   ratio_toilets_dwellings  pocket_code  centroidx  centroidy  \n",
       "0                      1:5    NORFOU001  18.732603 -33.863384  \n",
       "1                      1:2    HILACA001  18.501024 -34.032822  \n",
       "2                      1:6    MITAMY001  18.587852 -34.002772  \n",
       "3                      1:1    TYGAPP001  18.609142 -33.926268  \n",
       "4                      1:5    MITARE001  18.598543 -34.008208  \n",
       "\n",
       "[5 rows x 22 columns]"
      ]
     },
     "execution_count": 8,
     "metadata": {},
     "output_type": "execute_result"
    }
   ],
   "source": [
    "data.head()"
   ]
  },
  {
   "cell_type": "code",
   "execution_count": 13,
   "id": "eac1ef47-e1e1-43b0-8321-5b91ce813c69",
   "metadata": {},
   "outputs": [],
   "source": [
    "data.set_index('centroidy', inplace=True)"
   ]
  },
  {
   "cell_type": "code",
   "execution_count": 16,
   "id": "5e99669e-74ce-4564-ae2f-8ae63e0fdc1d",
   "metadata": {},
   "outputs": [
    {
     "name": "stdout",
     "output_type": "stream",
     "text": [
      "is_cluster                   0\n",
      "pocket_alias               242\n",
      "ward_id                      0\n",
      "ward_councillor              0\n",
      "avg_hhsize                   0\n",
      "area_ha                      0\n",
      "density_dwellings            0\n",
      "structure_count              0\n",
      "age_of_is                    0\n",
      "upgrade_category             0\n",
      "temp_sanitation              0\n",
      "toilets_full_flush           0\n",
      "toilets_chemical             0\n",
      "toilets_portable             0\n",
      "toilets_container            0\n",
      "toilets_other                0\n",
      "toilets_total                0\n",
      "ratio_toilets_dwellings     91\n",
      "pocket_code                  0\n",
      "centroidx                    0\n",
      "dtype: int64\n"
     ]
    }
   ],
   "source": [
    "missing_data=data.isnull().sum()\n",
    "print(missing_data)"
   ]
  },
  {
   "cell_type": "code",
   "execution_count": 19,
   "id": "c91ed23c-e923-439c-9289-f6b5ad7890fb",
   "metadata": {},
   "outputs": [],
   "source": [
    "col=['avg_hhsize', 'area_ha']"
   ]
  },
  {
   "cell_type": "code",
   "execution_count": 20,
   "id": "58bfdf7f-6abe-43fa-8d37-09dbb1bbb0c9",
   "metadata": {},
   "outputs": [
    {
     "name": "stdout",
     "output_type": "stream",
     "text": [
      "                    is_cluster                pocket_alias   ward_id  \\\n",
      "centroidy                                                              \n",
      "-33.863384              4 in 1  Wallacedene 14 / J Section  19100006   \n",
      "-34.032822         Acacia Road      Acacia Park - Parktown  19100066   \n",
      "-34.002772           Amy Biehl                 School Site  19100034   \n",
      "-33.926268         Appel Boord                         NaN  19100022   \n",
      "-34.008208              Area K                 Never Never  19100088   \n",
      "...                        ...                         ...       ...   \n",
      "-33.734345  Wolweriver Pockets                         NaN  19100104   \n",
      "-34.029229         YAB Section        Victoria Mxenge 8645  19100091   \n",
      "-34.029142         YAB Section        Victoria Mxenge 8317  19100091   \n",
      "-34.034671          Zille Rain         Zille Rains Heights  19100110   \n",
      "-34.039633        Zola Section                         NaN  19100097   \n",
      "\n",
      "                    ward_councillor  avg_hhsize   area_ha  density_dwellings  \\\n",
      "centroidy                                                                      \n",
      "-33.863384      Simpiwe Nonkeyizana    0.523973  0.004395          50.813008   \n",
      "-34.032822          Melanie Arendse    0.794521  0.000090         114.285714   \n",
      "-34.002772         Fikiswa Nkunzana    0.239726  0.002541         301.578025   \n",
      "-33.926268          Johanna Martlow    0.667808  0.000117         159.090909   \n",
      "-34.008208  Patrick (Pat) Pietersen    0.678082  0.003960         249.154453   \n",
      "...                             ...         ...       ...                ...   \n",
      "-33.734345        Lubabalo Makeleni    0.130137  0.011770           5.323869   \n",
      "-34.029229           Monde Mabandla    0.417808  0.001987         202.985075   \n",
      "-34.029142           Monde Mabandla    0.417808  0.001439          27.749229   \n",
      "-34.034671           Shanen Rossouw    0.808219  0.001182          66.167291   \n",
      "-34.039633        Mthwalo Mkutswana    0.527397  0.000122         260.869565   \n",
      "\n",
      "            structure_count      age_of_is  \\\n",
      "centroidy                                    \n",
      "-33.863384              150  15 - 20 years   \n",
      "-34.032822                8  10 - 15 years   \n",
      "-34.002772              516  15 - 20 years   \n",
      "-33.926268               14   5 - 10 years   \n",
      "-34.008208              663  10 - 15 years   \n",
      "...                     ...            ...   \n",
      "-33.734345               42  15 - 20 years   \n",
      "-34.029229              272     > 20 years   \n",
      "-34.029142               27  15 - 20 years   \n",
      "-34.034671               53   5 - 10 years   \n",
      "-34.039633               24  10 - 15 years   \n",
      "\n",
      "                                             upgrade_category  \\\n",
      "centroidy                                                       \n",
      "-33.863384                         City land. Can be upgraded   \n",
      "-34.032822        Many constraints.  May need to be relocated   \n",
      "-34.002772  Provincial or National government land.  Some ...   \n",
      "-33.926268                         City land. Can be upgraded   \n",
      "-34.008208  Provincial or National government land.  Some ...   \n",
      "...                                                       ...   \n",
      "-33.734345  Provincial or National government land.  Some ...   \n",
      "-34.029229  Provincial or National government land.  Some ...   \n",
      "-34.029142                         City land. Can be upgraded   \n",
      "-34.034671                         City land. Can be upgraded   \n",
      "-34.039633  Provincial or National government land.  Some ...   \n",
      "\n",
      "            temp_sanitation  toilets_full_flush  toilets_chemical  \\\n",
      "centroidy                                                           \n",
      "-33.863384         0.000000                32.0               0.0   \n",
      "-34.032822        40.000000                 3.0               2.0   \n",
      "-34.002772         0.000000                93.0               0.0   \n",
      "-33.926268         0.000000                10.0               0.0   \n",
      "-34.008208         0.000000               121.0               0.0   \n",
      "...                     ...                 ...               ...   \n",
      "-33.734345       100.000000                 0.0              18.0   \n",
      "-34.029229         0.000000                 0.0               0.0   \n",
      "-34.029142         0.000000                 0.0               0.0   \n",
      "-34.034671       100.000000                 0.0              16.0   \n",
      "-34.039633        95.979899                 8.0               0.0   \n",
      "\n",
      "            toilets_portable  toilets_container  toilets_other  toilets_total  \\\n",
      "centroidy                                                                       \n",
      "-33.863384               0.0                0.0            0.0           32.0   \n",
      "-34.032822               0.0                0.0            0.0            5.0   \n",
      "-34.002772               0.0                0.0            0.0           93.0   \n",
      "-33.926268               0.0                0.0            0.0           10.0   \n",
      "-34.008208               0.0                0.0            0.0          121.0   \n",
      "...                      ...                ...            ...            ...   \n",
      "-33.734345              30.0                0.0            6.0           54.0   \n",
      "-34.029229               0.0                0.0            0.0            0.0   \n",
      "-34.029142               0.0                0.0            0.0            0.0   \n",
      "-34.034671               0.0                0.0            0.0           16.0   \n",
      "-34.039633             191.0                0.0            0.0          199.0   \n",
      "\n",
      "           ratio_toilets_dwellings pocket_code  centroidx  \n",
      "centroidy                                                  \n",
      "-33.863384                     1:5   NORFOU001  18.732603  \n",
      "-34.032822                     1:2   HILACA001  18.501024  \n",
      "-34.002772                     1:6   MITAMY001  18.587852  \n",
      "-33.926268                     1:1   TYGAPP001  18.609142  \n",
      "-34.008208                     1:5   MITARE001  18.598543  \n",
      "...                            ...         ...        ...  \n",
      "-33.734345                     1:1   NORWOL001  18.517303  \n",
      "-34.029229                     NaN   KHAYAB003  18.662064  \n",
      "-34.029142                     NaN   KHAYAB002  18.663659  \n",
      "-34.034671                     1:3   HILZIL001  18.499941  \n",
      "-34.039633                     1:0   KHAZOL001  18.680415  \n",
      "\n",
      "[434 rows x 20 columns]\n"
     ]
    }
   ],
   "source": [
    "min= MinMaxScaler()\n",
    "df_normalized = data.copy()\n",
    "df_normalized[col] = min.fit_transform(data[col])\n",
    "print(df_normalized)"
   ]
  },
  {
   "cell_type": "markdown",
   "id": "24b6d1d6-8098-455c-9274-bc6d3776311f",
   "metadata": {},
   "source": [
    "'area_ha' column is a float data type.\n",
    "This column represents area of the settlements collected in this dataset.\n",
    "It can be used in machine learning as it is numerical"
   ]
  }
 ],
 "metadata": {
  "kernelspec": {
   "display_name": "Python 3 (ipykernel)",
   "language": "python",
   "name": "python3"
  },
  "language_info": {
   "codemirror_mode": {
    "name": "ipython",
    "version": 3
   },
   "file_extension": ".py",
   "mimetype": "text/x-python",
   "name": "python",
   "nbconvert_exporter": "python",
   "pygments_lexer": "ipython3",
   "version": "3.11.7"
  }
 },
 "nbformat": 4,
 "nbformat_minor": 5
}

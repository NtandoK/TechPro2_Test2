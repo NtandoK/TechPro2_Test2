{
 "cells": [
  {
   "cell_type": "code",
   "execution_count": 1,
   "id": "6dd80eb7-f29e-4171-a80f-eb7438c382cc",
   "metadata": {},
   "outputs": [],
   "source": [
    "import pandas as pd"
   ]
  },
  {
   "cell_type": "code",
   "execution_count": 4,
   "id": "cdb7cf72-a50b-42a3-98b5-3e9da92ec2be",
   "metadata": {},
   "outputs": [],
   "source": [
    "data=pd.read_csv('settle2.csv')"
   ]
  },
  {
   "cell_type": "code",
   "execution_count": 8,
   "id": "80c51497-15fc-43e1-96fc-f3502f3e4a66",
   "metadata": {},
   "outputs": [],
   "source": [
    "sort=data['structure_count'].tolist()"
   ]
  },
  {
   "cell_type": "code",
   "execution_count": 9,
   "id": "49479266-13dc-498b-a05e-2748f4cff544",
   "metadata": {},
   "outputs": [],
   "source": [
    "for i in range(len(sort)-1):\n",
    "    for j in range(len(sort)-1):\n",
    "        if(sort[j]>sort[j+1]):\n",
    "            t=sort[j]\n",
    "            sort[j]=sort[j+1]\n",
    "            sort[j+1]=t"
   ]
  },
  {
   "cell_type": "code",
   "execution_count": 10,
   "id": "5cd97f85-9450-44f5-b099-03630d3892dd",
   "metadata": {},
   "outputs": [
    {
     "name": "stdout",
     "output_type": "stream",
     "text": [
      "[0, 1, 3, 3, 3, 3, 3, 4, 4, 4, 4, 5, 5, 5, 5, 6, 6, 6, 6, 7, 7, 8, 8, 8, 8, 8, 8, 8, 8, 8, 8, 9, 9, 9, 9, 10, 10, 10, 10, 10, 11, 11, 11, 11, 11, 11, 11, 11, 12, 12, 12, 12, 12, 12, 12, 13, 13, 13, 13, 13, 13, 13, 13, 13, 13, 13, 14, 14, 14, 14, 15, 15, 15, 15, 15, 16, 16, 16, 17, 17, 17, 17, 17, 18, 18, 18, 18, 18, 18, 18, 18, 19, 19, 19, 19, 20, 20, 20, 20, 20, 20, 20, 20, 20, 20, 20, 20, 21, 21, 21, 22, 22, 22, 22, 22, 22, 22, 23, 23, 23, 23, 23, 23, 23, 24, 24, 24, 24, 24, 24, 24, 25, 25, 25, 25, 26, 26, 26, 27, 27, 27, 27, 27, 27, 28, 28, 28, 28, 28, 28, 29, 29, 29, 29, 29, 29, 31, 31, 31, 31, 32, 32, 32, 32, 33, 33, 33, 34, 34, 34, 35, 35, 35, 36, 36, 36, 37, 37, 37, 37, 38, 38, 38, 39, 39, 40, 40, 40, 41, 41, 42, 42, 42, 42, 43, 43, 44, 44, 45, 45, 46, 46, 46, 47, 47, 48, 48, 48, 48, 49, 49, 49, 50, 50, 51, 51, 53, 53, 53, 53, 53, 54, 54, 55, 55, 56, 56, 56, 57, 57, 58, 59, 59, 59, 60, 60, 60, 62, 64, 64, 64, 66, 66, 67, 68, 68, 68, 68, 69, 70, 70, 71, 72, 72, 72, 73, 74, 75, 77, 78, 79, 79, 81, 81, 81, 82, 83, 85, 86, 91, 95, 96, 97, 98, 100, 101, 102, 104, 105, 106, 110, 110, 114, 114, 115, 116, 116, 117, 118, 122, 124, 126, 127, 131, 138, 138, 138, 146, 150, 154, 160, 162, 163, 165, 168, 168, 169, 170, 171, 175, 181, 185, 190, 192, 199, 230, 237, 243, 243, 247, 254, 259, 262, 272, 282, 292, 300, 304, 305, 308, 311, 318, 321, 325, 326, 332, 333, 340, 352, 354, 362, 374, 376, 381, 382, 392, 412, 418, 422, 426, 427, 428, 433, 437, 443, 446, 448, 450, 450, 451, 471, 476, 479, 481, 487, 505, 516, 532, 533, 535, 539, 539, 540, 588, 590, 619, 621, 625, 626, 633, 637, 646, 660, 663, 664, 667, 684, 691, 717, 728, 748, 771, 800, 816, 850, 866, 877, 913, 948, 995, 998, 1006, 1087, 1215, 1228, 1251, 1285, 1362, 1434, 1510, 1534, 1568, 1576, 1606, 1631, 1851, 1912, 1952, 1997, 2041, 2077, 2171, 2866, 3020, 3152, 3318, 3684, 3743, 4412, 4759, 5952, 6086, 6662, 7963]\n"
     ]
    }
   ],
   "source": [
    "print(sort)"
   ]
  },
  {
   "cell_type": "markdown",
   "id": "ec5fa36c-6b4e-4ef8-ad93-c330ead156d1",
   "metadata": {},
   "source": [
    "Binary search is faster because of its logarithmic time complexity, which significantly reduces the number of comparisons needed to find an element in a sorted array. Here the list is divided in half with each iteration reducing the search space by half each time. ."
   ]
  },
  {
   "cell_type": "code",
   "execution_count": 11,
   "id": "96fd4f8c-0275-4444-bcbc-883b31c0bd63",
   "metadata": {},
   "outputs": [],
   "source": [
    "def linSearch(element, search):\n",
    "    for i in range(len(element)):\n",
    "        if element[i] == search:\n",
    "            return i\n",
    "    return -1"
   ]
  },
  {
   "cell_type": "code",
   "execution_count": 16,
   "id": "02211a5e-9da2-40fb-b5fa-8f9672c01bac",
   "metadata": {},
   "outputs": [
    {
     "name": "stdout",
     "output_type": "stream",
     "text": [
      "1\n"
     ]
    }
   ],
   "source": [
    "linRes=linSearch(sort,1)\n",
    "print(linRes)"
   ]
  },
  {
   "cell_type": "code",
   "execution_count": 13,
   "id": "1eb4af36-6872-4a50-9706-f03b9b20a528",
   "metadata": {},
   "outputs": [],
   "source": [
    "def binSearch(a, b):\n",
    "    low = 0\n",
    "    high = len(a) - 1\n",
    "    while low <= high:\n",
    "        mid = (low + high) // 2\n",
    "        if a[mid] == b:\n",
    "            return mid\n",
    "        elif a[mid] < b:\n",
    "            low = mid + 1\n",
    "        else:\n",
    "            high = mid - 1\n",
    "    return -1"
   ]
  },
  {
   "cell_type": "code",
   "execution_count": 17,
   "id": "81815062-fff2-4117-b04c-0f2dbbf91c97",
   "metadata": {},
   "outputs": [
    {
     "name": "stdout",
     "output_type": "stream",
     "text": [
      "1\n"
     ]
    }
   ],
   "source": [
    "binRes=binSearch(sort,1)\n",
    "print(binRes)"
   ]
  },
  {
   "cell_type": "code",
   "execution_count": null,
   "id": "fba6deb1-a020-4fe5-ade8-a8b167af9b43",
   "metadata": {},
   "outputs": [],
   "source": []
  }
 ],
 "metadata": {
  "kernelspec": {
   "display_name": "Python 3 (ipykernel)",
   "language": "python",
   "name": "python3"
  },
  "language_info": {
   "codemirror_mode": {
    "name": "ipython",
    "version": 3
   },
   "file_extension": ".py",
   "mimetype": "text/x-python",
   "name": "python",
   "nbconvert_exporter": "python",
   "pygments_lexer": "ipython3",
   "version": "3.11.7"
  }
 },
 "nbformat": 4,
 "nbformat_minor": 5
}

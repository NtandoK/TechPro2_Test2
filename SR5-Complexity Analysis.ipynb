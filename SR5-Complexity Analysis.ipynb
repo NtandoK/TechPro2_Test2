{
 "cells": [
  {
   "cell_type": "markdown",
   "id": "c92e8649-74fd-47e2-b2fa-78d27bb771af",
   "metadata": {},
   "source": [
    "Bubble Sort is a simple sorting algorithm. It compares adjacent elements and swap them if they are in a wrong order, repeatedly until the list is sorted.\n",
    "\n",
    "In time complexity the best case time complexity of O(n) will happen if the algorithm does not make a swap if those elements are in a right order. The worst time complexity of O(n2) will happen where the order is in reverse. Here each and every element will be compared to every other element as there are not elements that are in order.\n",
    "\n",
    "In space complexity the auxiliary space of O(1) where the bubble sort won't require any additional storage proportional of the input size.\n",
    "\n",
    "Bubble sort is efficient in terms of its Big-O notation."
   ]
  }
 ],
 "metadata": {
  "kernelspec": {
   "display_name": "Python 3 (ipykernel)",
   "language": "python",
   "name": "python3"
  },
  "language_info": {
   "codemirror_mode": {
    "name": "ipython",
    "version": 3
   },
   "file_extension": ".py",
   "mimetype": "text/x-python",
   "name": "python",
   "nbconvert_exporter": "python",
   "pygments_lexer": "ipython3",
   "version": "3.11.7"
  }
 },
 "nbformat": 4,
 "nbformat_minor": 5
}
